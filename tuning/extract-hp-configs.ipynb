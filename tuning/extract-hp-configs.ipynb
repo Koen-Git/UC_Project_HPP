{
 "cells": [
  {
   "cell_type": "code",
   "execution_count": 2,
   "metadata": {},
   "outputs": [],
   "source": [
    "import os\n",
    "import json"
   ]
  },
  {
   "cell_type": "code",
   "execution_count": 3,
   "metadata": {},
   "outputs": [
    {
     "ename": "AttributeError",
     "evalue": "'str' object has no attribute 'read'",
     "output_type": "error",
     "traceback": [
      "\u001b[1;31m---------------------------------------------------------------------------\u001b[0m",
      "\u001b[1;31mAttributeError\u001b[0m                            Traceback (most recent call last)",
      "Cell \u001b[1;32mIn [3], line 23\u001b[0m\n\u001b[0;32m     20\u001b[0m         \u001b[39mcontinue\u001b[39;00m\n\u001b[0;32m     22\u001b[0m     trial_dir \u001b[39m=\u001b[39m os\u001b[39m.\u001b[39mpath\u001b[39m.\u001b[39mjoin(RESULT_DIR, item)\n\u001b[1;32m---> 23\u001b[0m     trials\u001b[39m.\u001b[39mappend(parse_trial(trial_dir))\n\u001b[0;32m     25\u001b[0m best_trial \u001b[39m=\u001b[39m \u001b[39mmin\u001b[39m(trials, key\u001b[39m=\u001b[39m\u001b[39mlambda\u001b[39;00m x: x[\u001b[39m'\u001b[39m\u001b[39mscore\u001b[39m\u001b[39m'\u001b[39m])\n\u001b[0;32m     26\u001b[0m \u001b[39mprint\u001b[39m(best_trial)\n",
      "Cell \u001b[1;32mIn [3], line 8\u001b[0m, in \u001b[0;36mparse_trial\u001b[1;34m(trial_dir)\u001b[0m\n\u001b[0;32m      7\u001b[0m \u001b[39mdef\u001b[39;00m \u001b[39mparse_trial\u001b[39m(trial_dir):\n\u001b[1;32m----> 8\u001b[0m     data_dict \u001b[39m=\u001b[39m json\u001b[39m.\u001b[39;49mload(os\u001b[39m.\u001b[39;49mpath\u001b[39m.\u001b[39;49mjoin(trial_dir))\n\u001b[0;32m      9\u001b[0m     hp_dict \u001b[39m=\u001b[39m \u001b[39mdict\u001b[39m()\n\u001b[0;32m     10\u001b[0m     hp_dict[\u001b[39m'\u001b[39m\u001b[39mhp_values\u001b[39m\u001b[39m'\u001b[39m] \u001b[39m=\u001b[39m data_dict[\u001b[39m'\u001b[39m\u001b[39mhyperparameters\u001b[39m\u001b[39m'\u001b[39m][\u001b[39m'\u001b[39m\u001b[39mvalues\u001b[39m\u001b[39m'\u001b[39m]\n",
      "File \u001b[1;32mc:\\Users\\thijm\\AppData\\Local\\Programs\\Python\\Python39\\lib\\json\\__init__.py:293\u001b[0m, in \u001b[0;36mload\u001b[1;34m(fp, cls, object_hook, parse_float, parse_int, parse_constant, object_pairs_hook, **kw)\u001b[0m\n\u001b[0;32m    274\u001b[0m \u001b[39mdef\u001b[39;00m \u001b[39mload\u001b[39m(fp, \u001b[39m*\u001b[39m, \u001b[39mcls\u001b[39m\u001b[39m=\u001b[39m\u001b[39mNone\u001b[39;00m, object_hook\u001b[39m=\u001b[39m\u001b[39mNone\u001b[39;00m, parse_float\u001b[39m=\u001b[39m\u001b[39mNone\u001b[39;00m,\n\u001b[0;32m    275\u001b[0m         parse_int\u001b[39m=\u001b[39m\u001b[39mNone\u001b[39;00m, parse_constant\u001b[39m=\u001b[39m\u001b[39mNone\u001b[39;00m, object_pairs_hook\u001b[39m=\u001b[39m\u001b[39mNone\u001b[39;00m, \u001b[39m*\u001b[39m\u001b[39m*\u001b[39mkw):\n\u001b[0;32m    276\u001b[0m     \u001b[39m\"\"\"Deserialize ``fp`` (a ``.read()``-supporting file-like object containing\u001b[39;00m\n\u001b[0;32m    277\u001b[0m \u001b[39m    a JSON document) to a Python object.\u001b[39;00m\n\u001b[0;32m    278\u001b[0m \n\u001b[1;32m   (...)\u001b[0m\n\u001b[0;32m    291\u001b[0m \u001b[39m    kwarg; otherwise ``JSONDecoder`` is used.\u001b[39;00m\n\u001b[0;32m    292\u001b[0m \u001b[39m    \"\"\"\u001b[39;00m\n\u001b[1;32m--> 293\u001b[0m     \u001b[39mreturn\u001b[39;00m loads(fp\u001b[39m.\u001b[39;49mread(),\n\u001b[0;32m    294\u001b[0m         \u001b[39mcls\u001b[39m\u001b[39m=\u001b[39m\u001b[39mcls\u001b[39m, object_hook\u001b[39m=\u001b[39mobject_hook,\n\u001b[0;32m    295\u001b[0m         parse_float\u001b[39m=\u001b[39mparse_float, parse_int\u001b[39m=\u001b[39mparse_int,\n\u001b[0;32m    296\u001b[0m         parse_constant\u001b[39m=\u001b[39mparse_constant, object_pairs_hook\u001b[39m=\u001b[39mobject_pairs_hook, \u001b[39m*\u001b[39m\u001b[39m*\u001b[39mkw)\n",
      "\u001b[1;31mAttributeError\u001b[0m: 'str' object has no attribute 'read'"
     ]
    }
   ],
   "source": [
    "DATASET = 'nl'\n",
    "\n",
    "RESULT_DIR = os.path.abspath(f'./asi_tuning_{DATASET}/')\n",
    "if not os.path.exists(RESULT_DIR):    \n",
    "    raise Exception(\"Dataset tuning results not found\")\n",
    "\n",
    "def parse_trial(trial_dir):\n",
    "    with open(os.path.join(trial_dir, 'trial.json')) as f:\n",
    "        data_dict = json.load(f)\n",
    "    \n",
    "    hp_dict = dict()\n",
    "    hp_dict['hp_values'] = data_dict['hyperparameters']['values']\n",
    "    hp_dict['score'] = data_dict['score']\n",
    "    return hp_dict\n",
    "\n",
    "\n",
    "\n",
    "trials = []\n",
    "# Load all trials\n",
    "for item in os.listdir(RESULT_DIR):\n",
    "    if not item.startswith('trial_'):\n",
    "        continue\n",
    "    \n",
    "    trial_dir = os.path.join(RESULT_DIR, item)\n",
    "    trials.append(parse_trial(trial_dir))\n",
    "\n",
    "best_trial = min(trials, key=lambda x: x['score'])\n",
    "print(best_trial)"
   ]
  }
 ],
 "metadata": {
  "kernelspec": {
   "display_name": "Python 3.9.7 64-bit",
   "language": "python",
   "name": "python3"
  },
  "language_info": {
   "codemirror_mode": {
    "name": "ipython",
    "version": 3
   },
   "file_extension": ".py",
   "mimetype": "text/x-python",
   "name": "python",
   "nbconvert_exporter": "python",
   "pygments_lexer": "ipython3",
   "version": "3.9.7"
  },
  "orig_nbformat": 4,
  "vscode": {
   "interpreter": {
    "hash": "5b012b27356deb70bec897482442c84c8a6966312d515db7fff44da2132667db"
   }
  }
 },
 "nbformat": 4,
 "nbformat_minor": 2
}
