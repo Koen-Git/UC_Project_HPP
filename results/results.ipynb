{
 "cells": [
  {
   "cell_type": "code",
   "execution_count": 50,
   "metadata": {},
   "outputs": [],
   "source": [
    "import pandas as pd\n",
    "import numpy as np\n",
    "import matplotlib.pyplot as plt"
   ]
  },
  {
   "cell_type": "code",
   "execution_count": 58,
   "metadata": {},
   "outputs": [],
   "source": [
    "kc = pd.read_csv('results_kc.csv').drop(columns=['Unnamed: 0'])\n",
    "poa = pd.read_csv('results_poa.csv').drop(columns=['Unnamed: 0'])\n",
    "sp = pd.read_csv('results_sp.csv').drop(columns=['Unnamed: 0'])\n",
    "fc = pd.read_csv('results_fc.csv').drop(columns=['Unnamed: 0'])\n",
    "\n",
    "metrics = ['MALE_test', 'RMSE_test', 'MAPE_test']#, 'MALE_train', 'RMSE_train', 'MAPE_train']\n",
    "metrics = ['RMSE_test']"
   ]
  },
  {
   "cell_type": "code",
   "execution_count": 89,
   "metadata": {},
   "outputs": [
    {
     "data": {
      "text/plain": [
       "159700.3648690964"
      ]
     },
     "execution_count": 89,
     "metadata": {},
     "output_type": "execute_result"
    }
   ],
   "source": [
    "# get lowest sp['isMasked'] == False\n",
    "sp[sp['isMasked'] == False]['RMSE_test'].min()"
   ]
  },
  {
   "cell_type": "code",
   "execution_count": 87,
   "metadata": {},
   "outputs": [
    {
     "data": {
      "text/html": [
       "<div>\n",
       "<style scoped>\n",
       "    .dataframe tbody tr th:only-of-type {\n",
       "        vertical-align: middle;\n",
       "    }\n",
       "\n",
       "    .dataframe tbody tr th {\n",
       "        vertical-align: top;\n",
       "    }\n",
       "\n",
       "    .dataframe thead th {\n",
       "        text-align: right;\n",
       "    }\n",
       "</style>\n",
       "<table border=\"1\" class=\"dataframe\">\n",
       "  <thead>\n",
       "    <tr style=\"text-align: right;\">\n",
       "      <th></th>\n",
       "      <th>Dataset</th>\n",
       "      <th>iteration</th>\n",
       "      <th>isMasked</th>\n",
       "      <th>threshold</th>\n",
       "      <th>MALE_test</th>\n",
       "      <th>RMSE_test</th>\n",
       "      <th>MAPE_test</th>\n",
       "      <th>MALE_train</th>\n",
       "      <th>RMSE_train</th>\n",
       "      <th>MAPE_train</th>\n",
       "    </tr>\n",
       "  </thead>\n",
       "  <tbody>\n",
       "    <tr>\n",
       "      <th>0</th>\n",
       "      <td>sp</td>\n",
       "      <td>1</td>\n",
       "      <td>False</td>\n",
       "      <td>0.1</td>\n",
       "      <td>0.139785</td>\n",
       "      <td>159949.953445</td>\n",
       "      <td>10.277003</td>\n",
       "      <td>0.135393</td>\n",
       "      <td>155593.708912</td>\n",
       "      <td>9.660553</td>\n",
       "    </tr>\n",
       "    <tr>\n",
       "      <th>9</th>\n",
       "      <td>sp</td>\n",
       "      <td>2</td>\n",
       "      <td>False</td>\n",
       "      <td>0.1</td>\n",
       "      <td>0.140542</td>\n",
       "      <td>160126.911776</td>\n",
       "      <td>10.334735</td>\n",
       "      <td>0.134332</td>\n",
       "      <td>154057.814331</td>\n",
       "      <td>9.660140</td>\n",
       "    </tr>\n",
       "    <tr>\n",
       "      <th>18</th>\n",
       "      <td>sp</td>\n",
       "      <td>3</td>\n",
       "      <td>False</td>\n",
       "      <td>0.1</td>\n",
       "      <td>0.140505</td>\n",
       "      <td>160372.547212</td>\n",
       "      <td>10.288572</td>\n",
       "      <td>0.133375</td>\n",
       "      <td>153167.972075</td>\n",
       "      <td>9.532606</td>\n",
       "    </tr>\n",
       "    <tr>\n",
       "      <th>27</th>\n",
       "      <td>sp</td>\n",
       "      <td>4</td>\n",
       "      <td>False</td>\n",
       "      <td>0.1</td>\n",
       "      <td>0.140318</td>\n",
       "      <td>159810.229717</td>\n",
       "      <td>10.301682</td>\n",
       "      <td>0.136177</td>\n",
       "      <td>155378.592468</td>\n",
       "      <td>9.849458</td>\n",
       "    </tr>\n",
       "    <tr>\n",
       "      <th>36</th>\n",
       "      <td>sp</td>\n",
       "      <td>5</td>\n",
       "      <td>False</td>\n",
       "      <td>0.1</td>\n",
       "      <td>0.140670</td>\n",
       "      <td>160819.996965</td>\n",
       "      <td>10.307374</td>\n",
       "      <td>0.134968</td>\n",
       "      <td>154964.706703</td>\n",
       "      <td>9.693587</td>\n",
       "    </tr>\n",
       "    <tr>\n",
       "      <th>45</th>\n",
       "      <td>sp</td>\n",
       "      <td>6</td>\n",
       "      <td>False</td>\n",
       "      <td>0.1</td>\n",
       "      <td>0.140317</td>\n",
       "      <td>160096.728588</td>\n",
       "      <td>10.289175</td>\n",
       "      <td>0.134301</td>\n",
       "      <td>154617.002744</td>\n",
       "      <td>9.631312</td>\n",
       "    </tr>\n",
       "    <tr>\n",
       "      <th>54</th>\n",
       "      <td>sp</td>\n",
       "      <td>7</td>\n",
       "      <td>False</td>\n",
       "      <td>0.1</td>\n",
       "      <td>0.139969</td>\n",
       "      <td>160039.286181</td>\n",
       "      <td>10.284667</td>\n",
       "      <td>0.134899</td>\n",
       "      <td>154527.529180</td>\n",
       "      <td>9.723705</td>\n",
       "    </tr>\n",
       "    <tr>\n",
       "      <th>63</th>\n",
       "      <td>sp</td>\n",
       "      <td>8</td>\n",
       "      <td>False</td>\n",
       "      <td>0.1</td>\n",
       "      <td>0.139542</td>\n",
       "      <td>160512.360553</td>\n",
       "      <td>10.263584</td>\n",
       "      <td>0.134810</td>\n",
       "      <td>155737.145314</td>\n",
       "      <td>9.672614</td>\n",
       "    </tr>\n",
       "    <tr>\n",
       "      <th>72</th>\n",
       "      <td>sp</td>\n",
       "      <td>9</td>\n",
       "      <td>False</td>\n",
       "      <td>0.1</td>\n",
       "      <td>0.139166</td>\n",
       "      <td>159700.364869</td>\n",
       "      <td>10.149522</td>\n",
       "      <td>0.131995</td>\n",
       "      <td>152776.257639</td>\n",
       "      <td>9.338293</td>\n",
       "    </tr>\n",
       "    <tr>\n",
       "      <th>81</th>\n",
       "      <td>sp</td>\n",
       "      <td>10</td>\n",
       "      <td>False</td>\n",
       "      <td>0.1</td>\n",
       "      <td>0.140753</td>\n",
       "      <td>161382.506341</td>\n",
       "      <td>10.457899</td>\n",
       "      <td>0.135215</td>\n",
       "      <td>155179.989795</td>\n",
       "      <td>9.735401</td>\n",
       "    </tr>\n",
       "  </tbody>\n",
       "</table>\n",
       "</div>"
      ],
      "text/plain": [
       "   Dataset  iteration  isMasked  threshold  MALE_test      RMSE_test  \\\n",
       "0       sp          1     False        0.1   0.139785  159949.953445   \n",
       "9       sp          2     False        0.1   0.140542  160126.911776   \n",
       "18      sp          3     False        0.1   0.140505  160372.547212   \n",
       "27      sp          4     False        0.1   0.140318  159810.229717   \n",
       "36      sp          5     False        0.1   0.140670  160819.996965   \n",
       "45      sp          6     False        0.1   0.140317  160096.728588   \n",
       "54      sp          7     False        0.1   0.139969  160039.286181   \n",
       "63      sp          8     False        0.1   0.139542  160512.360553   \n",
       "72      sp          9     False        0.1   0.139166  159700.364869   \n",
       "81      sp         10     False        0.1   0.140753  161382.506341   \n",
       "\n",
       "    MAPE_test  MALE_train     RMSE_train  MAPE_train  \n",
       "0   10.277003    0.135393  155593.708912    9.660553  \n",
       "9   10.334735    0.134332  154057.814331    9.660140  \n",
       "18  10.288572    0.133375  153167.972075    9.532606  \n",
       "27  10.301682    0.136177  155378.592468    9.849458  \n",
       "36  10.307374    0.134968  154964.706703    9.693587  \n",
       "45  10.289175    0.134301  154617.002744    9.631312  \n",
       "54  10.284667    0.134899  154527.529180    9.723705  \n",
       "63  10.263584    0.134810  155737.145314    9.672614  \n",
       "72  10.149522    0.131995  152776.257639    9.338293  \n",
       "81  10.457899    0.135215  155179.989795    9.735401  "
      ]
     },
     "execution_count": 87,
     "metadata": {},
     "output_type": "execute_result"
    }
   ],
   "source": [
    "# get highest of sp with ismaked = True\n",
    "sp[sp['isMasked'] == False]"
   ]
  },
  {
   "cell_type": "code",
   "execution_count": 92,
   "metadata": {},
   "outputs": [],
   "source": [
    "all_results = {}\n",
    "\n",
    "def create_results(df):\n",
    "    results = {}\n",
    "    results['original'] = {}\n",
    "    for threshold in df['threshold'].unique():\n",
    "        results[str(threshold)] = {}\n",
    "\n",
    "    original = df[df['isMasked'] == False]\n",
    "    ours = df[df['isMasked'] == True]\n",
    "\n",
    "    for metric in metrics:\n",
    "        results['original'][metric] = (original[metric].mean(), original[metric].std())\n",
    "        for threshold in df['threshold'].unique():\n",
    "            results[str(threshold)][metric] = (ours[ours['threshold'] == threshold][metric].mean(), ours[ours['threshold'] == threshold][metric].std())\n",
    "\n",
    "    return results\n",
    "    \n",
    "all_results['kc'] = create_results(kc)\n",
    "all_results['poa'] = create_results(poa)\n",
    "all_results['sp'] = create_results(sp)\n",
    "all_results['fc'] = create_results(fc)"
   ]
  },
  {
   "cell_type": "code",
   "execution_count": 69,
   "metadata": {},
   "outputs": [
    {
     "name": "stdout",
     "output_type": "stream",
     "text": [
      "1780.8139172201627\n",
      "39.71162600369644\n",
      "747.327798086364\n",
      "-1297.1946159686486\n"
     ]
    }
   ],
   "source": [
    "print(kc_results['original']['RMSE_test'][0] - min([kc_results[e]['RMSE_test'][0] for e in kc_results.keys() if e != 'original']))\n",
    "print(fc_results['original']['RMSE_test'][0] - min([fc_results[e]['RMSE_test'][0] for e in fc_results.keys() if e != 'original']))\n",
    "print(poa_results['original']['RMSE_test'][0] - min([poa_results[e]['RMSE_test'][0] for e in poa_results.keys() if e != 'original']))\n",
    "print(sp_results['original']['RMSE_test'][0] - min([sp_results[e]['RMSE_test'][0] for e in sp_results.keys() if e != 'original']))"
   ]
  },
  {
   "cell_type": "code",
   "execution_count": 98,
   "metadata": {},
   "outputs": [
    {
     "data": {
      "image/png": "[encoded data removed]",
      "text/plain": [
       "<Figure size 432x288 with 1 Axes>"
      ]
     },
     "metadata": {
      "needs_background": "light"
     },
     "output_type": "display_data"
    },
    {
     "data": {
      "image/png": "[encoded data removed]",
      "text/plain": [
       "<Figure size 432x288 with 1 Axes>"
      ]
     },
     "metadata": {
      "needs_background": "light"
     },
     "output_type": "display_data"
    },
    {
     "data": {
      "image/png": "[encoded data removed]",
      "text/plain": [
       "<Figure size 432x288 with 1 Axes>"
      ]
     },
     "metadata": {
      "needs_background": "light"
     },
     "output_type": "display_data"
    },
    {
     "data": {
      "image/png": "[encoded data removed]",
      "text/plain": [
       "<Figure size 432x288 with 1 Axes>"
      ]
     },
     "metadata": {
      "needs_background": "light"
     },
     "output_type": "display_data"
    }
   ],
   "source": [
    "def plot(results, dataset):\n",
    "    for metric in metrics:\n",
    "        plt.figure()\n",
    "        plt.title(dataset)\n",
    "        plt.xlabel('Geodesic distance threshold')\n",
    "        plt.ylabel(\"RMSE\")\n",
    "\n",
    "        plt.errorbar(list(results.keys()), [results[e][metric][0] for e in results.keys()], yerr=[results[e][metric][1] for e in results.keys()], fmt='o')\n",
    "\n",
    "        # for exp in results.keys():\n",
    "            # plt.bar(exp, results[exp][metric][0])\n",
    "            # print(exp, results[exp][metric][0], results[exp][metric][1])\n",
    "\n",
    "            # plt.errorbar(exp, results[exp][metric][0], yerr=results[exp][metric][1], fmt='o')\n",
    "        # set horizontal line\n",
    "        plt.axhline(y=np.min([results[e][metric][0] for e in results.keys()]), color='r', linestyle='-', label=\"best\")\n",
    "\n",
    "        plt.ylim(0)\n",
    "\n",
    "        # set y to log scale\n",
    "        # plt.yscale('log')\n",
    "\n",
    "        plt.legend()\n",
    "        plt.savefig('results_' + dataset + '_' + metric + '.png', dpi=300)\n",
    "        plt.show()\n",
    "\n",
    "for dataset in all_results.keys():\n",
    "    plot(all_results[dataset], dataset)"
   ]
  }
 ],
 "metadata": {
  "kernelspec": {
   "display_name": "Python 3.8.15 ('hpp')",
   "language": "python",
   "name": "python3"
  },
  "language_info": {
   "codemirror_mode": {
    "name": "ipython",
    "version": 3
   },
   "file_extension": ".py",
   "mimetype": "text/x-python",
   "name": "python",
   "nbconvert_exporter": "python",
   "pygments_lexer": "ipython3",
   "version": "3.8.15 (default, Nov 24 2022, 15:19:38) \n[GCC 11.2.0]"
  },
  "orig_nbformat": 4,
  "vscode": {
   "interpreter": {
    "hash": "2178c704cc2322efce2db41371e53934dae3e21b2ae6e98208dcb59ff014a048"
   }
  }
 },
 "nbformat": 4,
 "nbformat_minor": 2
}
